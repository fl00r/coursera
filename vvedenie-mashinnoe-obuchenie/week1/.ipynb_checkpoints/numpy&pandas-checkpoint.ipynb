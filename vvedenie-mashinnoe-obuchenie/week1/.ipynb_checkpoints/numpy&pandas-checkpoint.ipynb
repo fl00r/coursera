{
 "cells": [
  {
   "cell_type": "code",
   "execution_count": 131,
   "metadata": {
    "collapsed": true
   },
   "outputs": [],
   "source": [
    "import numpy as np\n",
    "from pandas import DataFrame, read_csv\n",
    "import re"
   ]
  },
  {
   "cell_type": "code",
   "execution_count": 4,
   "metadata": {
    "collapsed": true
   },
   "outputs": [],
   "source": [
    "df = read_csv(\"titanic.csv\")"
   ]
  },
  {
   "cell_type": "code",
   "execution_count": 10,
   "metadata": {
    "collapsed": false
   },
   "outputs": [
    {
     "name": "stdout",
     "output_type": "stream",
     "text": [
      "Following columns are existed:\n",
      "['PassengerId' 'Survived' 'Pclass' 'Name' 'Sex' 'Age' 'SibSp' 'Parch'\n",
      " 'Ticket' 'Fare' 'Cabin' 'Embarked']\n"
     ]
    }
   ],
   "source": [
    "print(\"Following columns are existed:\")\n",
    "print(df.columns.values)"
   ]
  },
  {
   "cell_type": "code",
   "execution_count": 26,
   "metadata": {
    "collapsed": false
   },
   "outputs": [
    {
     "name": "stdout",
     "output_type": "stream",
     "text": [
      "Distinct values at sex column:\n",
      "['female' 'male']\n",
      "male      577\n",
      "female    314\n",
      "Name: Sex, dtype: int64\n"
     ]
    }
   ],
   "source": [
    "print(\"Distinct values at sex column:\")\n",
    "print(np.unique(df['Sex']))"
   ]
  },
  {
   "cell_type": "markdown",
   "metadata": {},
   "source": [
    "# 1. Какое количество мужчин и женщин ехало на корабле? В качестве ответа приведите два числа через пробел."
   ]
  },
  {
   "cell_type": "code",
   "execution_count": 50,
   "metadata": {
    "collapsed": false
   },
   "outputs": [
    {
     "name": "stdout",
     "output_type": "stream",
     "text": [
      "Male count: 577\n",
      "Female count: 314\n"
     ]
    }
   ],
   "source": [
    "male_count = len(df[df.Sex == 'male'])\n",
    "female_count = len(df[df.Sex == 'female'])\n",
    "\n",
    "print(\"Male count:\", male_count)\n",
    "print(\"Female count:\", female_count)\n",
    "\n",
    "with open(\"submission1.txt\", \"w\") as file:\n",
    "    file.write(\"%d %d\" % (male_count, female_count))"
   ]
  },
  {
   "cell_type": "code",
   "execution_count": 35,
   "metadata": {
    "collapsed": false
   },
   "outputs": [
    {
     "name": "stdout",
     "output_type": "stream",
     "text": [
      "More ideomatic way to get those values is to use `value_counts` function.\n",
      "Though the result is the same: 577 and 314\n"
     ]
    }
   ],
   "source": [
    "# grader output\n",
    "genders = df['Sex'].value_counts()\n",
    "print(\"More ideomatic way to get those values is to use `value_counts` function.\")\n",
    "print(\"Though the result is the same:\", genders['male'], \"and\", genders['female'])"
   ]
  },
  {
   "cell_type": "markdown",
   "metadata": {},
   "source": [
    "# 2. Какой части пассажиров удалось выжить? Посчитайте долю выживших пассажиров. Ответ приведите в процентах (число в интервале от 0 до 100, знак процента не нужен)."
   ]
  },
  {
   "cell_type": "code",
   "execution_count": 85,
   "metadata": {
    "collapsed": false
   },
   "outputs": [
    {
     "name": "stdout",
     "output_type": "stream",
     "text": [
      "We can calculate survivers with `Survived` column.\n",
      "Values are following:\n",
      "Survived: 342 not survived: 549\n",
      "So the rounded percent is: 38.38\n"
     ]
    }
   ],
   "source": [
    "print(\"We can calculate survivers with `Survived` column.\")\n",
    "survived = df['Survived'].value_counts()\n",
    "print(\"Values are following:\")\n",
    "print(\"Survived:\", survived[1], \"not survived:\", survived[0])\n",
    "percent = survived[1] * 100 / df['Survived'].count()\n",
    "print(\"So the rounded percent is: %.2f\" % (percent,))\n",
    "\n",
    "with open(\"submission2.txt\", \"w+\") as file:\n",
    "    file.write(\"%.2f\" % (percent,))"
   ]
  },
  {
   "cell_type": "markdown",
   "metadata": {},
   "source": [
    "# 3. Какую долю пассажиры первого класса составляли среди всех пассажиров? Ответ приведите в процентах (число в интервале от 0 до 100, знак процента не нужен)."
   ]
  },
  {
   "cell_type": "code",
   "execution_count": 83,
   "metadata": {
    "collapsed": false
   },
   "outputs": [
    {
     "name": "stdout",
     "output_type": "stream",
     "text": [
      "Following classes were presented on Titanic:\n",
      "3    491\n",
      "1    216\n",
      "2    184\n",
      "Name: Pclass, dtype: int64\n"
     ]
    }
   ],
   "source": [
    "pclass = df['Pclass'].value_counts()\n",
    "print(\"Following classes were presented on Titanic:\")\n",
    "print(pclass)\n",
    "\n",
    "percent = pclass[1] * 100 / df['Pclass'].count()\n",
    "\n",
    "with open(\"submission3.txt\", \"w+\") as file:\n",
    "    file.write(\"%.2f\" % (percent,))"
   ]
  },
  {
   "cell_type": "markdown",
   "metadata": {},
   "source": [
    "# 4. Какого возраста были пассажиры? Посчитайте среднее и медиану возраста пассажиров. В качестве ответа приведите два числа через пробел."
   ]
  },
  {
   "cell_type": "code",
   "execution_count": 86,
   "metadata": {
    "collapsed": false
   },
   "outputs": [
    {
     "name": "stdout",
     "output_type": "stream",
     "text": [
      "Median: 28.00 and mean: 29.70\n"
     ]
    }
   ],
   "source": [
    "med = df['Age'].median()\n",
    "mean = df['Age'].mean()\n",
    "\n",
    "print(\"Median: %.2f and mean: %.2f\" % (med, mean))\n",
    "\n",
    "with open(\"submission4.txt\", \"w+\") as file:\n",
    "    file.write(\"%.2f %.2f\" % (mean, med))"
   ]
  },
  {
   "cell_type": "markdown",
   "metadata": {},
   "source": [
    "# 5. Коррелируют ли число братьев/сестер/супругов с числом родителей/детей? Посчитайте корреляцию Пирсона между признаками SibSp и Parch."
   ]
  },
  {
   "cell_type": "code",
   "execution_count": 139,
   "metadata": {
    "collapsed": false
   },
   "outputs": [
    {
     "name": "stdout",
     "output_type": "stream",
     "text": [
      "Pearson correletion is: 0.41483769862\n"
     ]
    }
   ],
   "source": [
    "df['SibSp'].value_counts()\n",
    "df['Parch'].value_counts()\n",
    "pearson = df[['SibSp', 'Parch']].corr(method='pearson')['SibSp']['Parch']\n",
    "\n",
    "print(\"Pearson correletion is:\", pearson)\n",
    "\n",
    "with open(\"submission5.txt\", \"w+\") as file:\n",
    "    file.write(\"%.2f\" % (pearson,))"
   ]
  },
  {
   "cell_type": "markdown",
   "metadata": {},
   "source": [
    "# 6. Какое самое популярное женское имя на корабле?"
   ]
  },
  {
   "cell_type": "code",
   "execution_count": 138,
   "metadata": {
    "collapsed": false
   },
   "outputs": [
    {
     "name": "stdout",
     "output_type": "stream",
     "text": [
      "The most popular name is Anna\n"
     ]
    }
   ],
   "source": [
    "def extract_first_name(n):\n",
    "    names = re.search(\"\\(([^)]+)\", n)\n",
    "    if names is None:\n",
    "        names = n.split(\". \")[-1]\n",
    "    else:\n",
    "        names = names.groups()[0]\n",
    "    return names.split(\" \")[0]\n",
    "\n",
    "names = df[df.Sex == 'female']['Name']\n",
    "most_popular = names.apply(extract_first_name).value_counts()\n",
    "\n",
    "print(\"The most popular name is\", most_popular.keys()[0])\n",
    "\n",
    "with open(\"submission6.txt\", \"w+\") as file:\n",
    "    file.write(most_popular.keys()[0])"
   ]
  }
 ],
 "metadata": {
  "kernelspec": {
   "display_name": "Python 3",
   "language": "python",
   "name": "python3"
  },
  "language_info": {
   "codemirror_mode": {
    "name": "ipython",
    "version": 3
   },
   "file_extension": ".py",
   "mimetype": "text/x-python",
   "name": "python",
   "nbconvert_exporter": "python",
   "pygments_lexer": "ipython3",
   "version": "3.5.1"
  }
 },
 "nbformat": 4,
 "nbformat_minor": 0
}
