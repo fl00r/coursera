{
 "cells": [
  {
   "cell_type": "code",
   "execution_count": 101,
   "metadata": {
    "collapsed": false
   },
   "outputs": [],
   "source": [
    "import numpy as np\n",
    "from sklearn.tree import DecisionTreeClassifier\n",
    "from pandas import DataFrame, read_csv\n",
    "from sklearn import preprocessing"
   ]
  },
  {
   "cell_type": "code",
   "execution_count": 110,
   "metadata": {
    "collapsed": false
   },
   "outputs": [],
   "source": [
    "df = read_csv(\"titanic.csv\")[['Pclass', 'Fare', 'Age', 'Sex', 'Survived']].dropna()\n",
    "X = df[['Pclass', 'Fare', 'Age', 'Sex']]\n",
    "y = df['Survived']\n",
    "\n",
    "le = preprocessing.LabelEncoder()\n",
    "le.fit(X['Sex'])\n",
    "X['SexNum'] = le.transform(X['Sex'])"
   ]
  },
  {
   "cell_type": "code",
   "execution_count": 138,
   "metadata": {
    "collapsed": false
   },
   "outputs": [],
   "source": [
    "clf = DecisionTreeClassifier(random_state=241)\n",
    "clf.fit(X[['Pclass', 'Fare', 'Age', 'SexNum']], y)\n",
    "\n",
    "clf.feature_importances_\n",
    "\n",
    "with open('submission7.txt', 'w+') as file:\n",
    "    file.write('Fare Sex')"
   ]
  }
 ],
 "metadata": {
  "kernelspec": {
   "display_name": "Python 3",
   "language": "python",
   "name": "python3"
  },
  "language_info": {
   "codemirror_mode": {
    "name": "ipython",
    "version": 3
   },
   "file_extension": ".py",
   "mimetype": "text/x-python",
   "name": "python",
   "nbconvert_exporter": "python",
   "pygments_lexer": "ipython3",
   "version": "3.5.1"
  }
 },
 "nbformat": 4,
 "nbformat_minor": 0
}
