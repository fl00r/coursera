{
 "cells": [
  {
   "cell_type": "code",
   "execution_count": 70,
   "metadata": {
    "collapsed": false
   },
   "outputs": [],
   "source": [
    "from pandas import DataFrame\n",
    "from sklearn import preprocessing, cross_validation, neighbors"
   ]
  },
  {
   "cell_type": "code",
   "execution_count": 73,
   "metadata": {
    "collapsed": false,
    "scrolled": false
   },
   "outputs": [],
   "source": [
    "data = DataFrame.from_csv(\"wine.data\", header=None, index_col=None)\n",
    "features = data[list(range(1,14))]\n",
    "klasses = data[0]\n",
    "scaled_features = DataFrame(preprocessing.scale(features))"
   ]
  },
  {
   "cell_type": "code",
   "execution_count": 142,
   "metadata": {
    "collapsed": false
   },
   "outputs": [
    {
     "name": "stdout",
     "output_type": "stream",
     "text": [
      "For not scaled features:\n",
      "Optimal k is: 1.00\n",
      "Optimal accuracy is: 0.73\n"
     ]
    }
   ],
   "source": [
    "generator = cross_validation.KFold(features.shape[0], n_folds=5, shuffle=True, random_state=42)\n",
    "\n",
    "results = []\n",
    "for k in range(1,51):\n",
    "    classifier = neighbors.KNeighborsClassifier(n_neighbors = k)\n",
    "    res = cross_validation.cross_val_score(classifier, features, y=klasses, scoring='accuracy', cv=generator)\n",
    "    results.append(res.mean())\n",
    "\n",
    "max_accuracy = max(results)\n",
    "k = results.index(max_accuracy) + 1\n",
    "\n",
    "print(\"For not scaled features:\")\n",
    "\n",
    "with open(\"submission1.txt\", \"w+\") as file:\n",
    "    print(\"Optimal k is: %.2f\" % (k, ))\n",
    "    file.write(str(\"%.2f\" % (k, )))\n",
    "\n",
    "with open(\"submission2.txt\", \"w+\") as file:\n",
    "    print(\"Optimal accuracy is: %.2f\" % (max_accuracy, ))\n",
    "    file.write(\"%.2f\" % (max_accuracy,))"
   ]
  },
  {
   "cell_type": "code",
   "execution_count": 135,
   "metadata": {
    "collapsed": false
   },
   "outputs": [
    {
     "name": "stdout",
     "output_type": "stream",
     "text": [
      "For scaled features:\n",
      "Optimal k is: 29\n",
      "Optimal accuracy is: 0.98\n"
     ]
    }
   ],
   "source": [
    "generator = cross_validation.KFold(features.shape[0], n_folds=5, shuffle=True, random_state=42)\n",
    "\n",
    "results = []\n",
    "for k in range(1,51):\n",
    "    classifier = neighbors.KNeighborsClassifier(n_neighbors = k)\n",
    "    res = cross_validation.cross_val_score(classifier, scaled_features, y=klasses, scoring='accuracy', cv=generator)\n",
    "    results.append(res.mean())\n",
    "\n",
    "max_accuracy = max(results)\n",
    "k = results.index(max_accuracy) + 1\n",
    "\n",
    "print(\"For scaled features:\")\n",
    "\n",
    "with open(\"submission3.txt\", \"w+\") as file:\n",
    "    print(\"Optimal k is: %d\" % (k, ))\n",
    "    file.write(str(\"%d\" % (k, )))\n",
    "\n",
    "with open(\"submission4.txt\", \"w+\") as file:\n",
    "    print(\"Optimal accuracy is: %.2f\" % (max_accuracy, ))\n",
    "    file.write(\"%.2f\" % (max_accuracy,))"
   ]
  }
 ],
 "metadata": {
  "kernelspec": {
   "display_name": "Python 3",
   "language": "python",
   "name": "python3"
  },
  "language_info": {
   "codemirror_mode": {
    "name": "ipython",
    "version": 3
   },
   "file_extension": ".py",
   "mimetype": "text/x-python",
   "name": "python",
   "nbconvert_exporter": "python",
   "pygments_lexer": "ipython3",
   "version": "3.5.1"
  }
 },
 "nbformat": 4,
 "nbformat_minor": 0
}
