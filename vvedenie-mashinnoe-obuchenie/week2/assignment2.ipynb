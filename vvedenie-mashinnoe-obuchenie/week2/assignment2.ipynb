{
 "cells": [
  {
   "cell_type": "code",
   "execution_count": 30,
   "metadata": {
    "collapsed": true
   },
   "outputs": [],
   "source": [
    "from sklearn import datasets, preprocessing, neighbors, cross_validation\n",
    "from pandas import DataFrame\n",
    "import numpy"
   ]
  },
  {
   "cell_type": "code",
   "execution_count": 45,
   "metadata": {
    "collapsed": false
   },
   "outputs": [],
   "source": [
    "dataset = datasets.load_boston()\n",
    "features = dataset.data\n",
    "answers = dataset.target\n",
    "\n",
    "scaled_features = preprocessing.scale(features)\n",
    "\n",
    "ps = numpy.linspace(1, 10, num=200)\n",
    "generator = cross_validation.KFold(len(scaled_features), n_folds=5, shuffle=True, random_state=42)\n",
    "\n",
    "results = []\n",
    "for p in ps:\n",
    "    regressor = neighbors.KNeighborsRegressor(n_neighbors=5, weights='distance', metric='minkowski', p=p)\n",
    "    res = cross_validation.cross_val_score(regressor, scaled_features, y=answers, scoring='mean_squared_error', cv=generator)\n",
    "    results.append(res.mean())"
   ]
  },
  {
   "cell_type": "code",
   "execution_count": 44,
   "metadata": {
    "collapsed": false
   },
   "outputs": [
    {
     "name": "stdout",
     "output_type": "stream",
     "text": [
      "Min error is -16.05 with p=1.00\n"
     ]
    }
   ],
   "source": [
    "min_error = max(results)\n",
    "k = results.index(min_error)\n",
    "p = ps[k]\n",
    "\n",
    "with open(\"sumbission2-1.txt\", \"w+\") as file:\n",
    "    print(\"Min error is %.2f with p=%.2f\" % (min_error, p))\n",
    "    file.write(\"%.2f\" % (p, ))"
   ]
  }
 ],
 "metadata": {
  "kernelspec": {
   "display_name": "Python 3",
   "language": "python",
   "name": "python3"
  },
  "language_info": {
   "codemirror_mode": {
    "name": "ipython",
    "version": 3
   },
   "file_extension": ".py",
   "mimetype": "text/x-python",
   "name": "python",
   "nbconvert_exporter": "python",
   "pygments_lexer": "ipython3",
   "version": "3.5.1"
  }
 },
 "nbformat": 4,
 "nbformat_minor": 0
}
