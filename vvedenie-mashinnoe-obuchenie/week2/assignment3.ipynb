{
 "cells": [
  {
   "cell_type": "code",
   "execution_count": 17,
   "metadata": {
    "collapsed": true
   },
   "outputs": [],
   "source": [
    "# from pandas import DataFrame\n",
    "from numpy import genfromtxt\n",
    "from sklearn import preprocessing, metrics, linear_model"
   ]
  },
  {
   "cell_type": "code",
   "execution_count": 43,
   "metadata": {
    "collapsed": false
   },
   "outputs": [],
   "source": [
    "train_data = genfromtxt(\"perceptron-train.csv\", delimiter=\",\")\n",
    "train_features = train_data[:,1:]\n",
    "train_answers = train_data[:,0:1].transpose()[0]\n",
    "\n",
    "test_data = genfromtxt(\"perceptron-test.csv\", delimiter=\",\")\n",
    "test_features = train_data[:,1:]\n",
    "test_answers = train_data[:,0:1].transpose()[0]\n",
    "\n",
    "standartizer = preprocessing.StandardScaler()\n",
    "train_features_scaled = standartizer.fit_transform(train_features)\n",
    "test_features_scaled = standartizer.transform(test_features)"
   ]
  },
  {
   "cell_type": "code",
   "execution_count": 59,
   "metadata": {
    "collapsed": false
   },
   "outputs": [
    {
     "name": "stdout",
     "output_type": "stream",
     "text": [
      "Non scaled data accuracy is 0.360 while scaled data accuracy is 0.923\n",
      "So the answer is 0.563\n"
     ]
    }
   ],
   "source": [
    "classifier = linear_model.Perceptron(random_state=241)\n",
    "\n",
    "classifier.fit(train_features, train_answers)\n",
    "predictions = classifier.predict(test_features)\n",
    "accuracy = metrics.accuracy_score(test_answers, predictions)\n",
    "\n",
    "classifier.fit(train_features_scaled, train_answers)\n",
    "predictions = classifier.predict(test_features_scaled)\n",
    "scaled_accuracy = metrics.accuracy_score(test_answers, predictions)\n",
    "\n",
    "result = scaled_accuracy - accuracy\n",
    "\n",
    "with open(\"submission3-1.txt\", \"w+\") as file:\n",
    "    print(\"Non scaled data accuracy is %.3f while scaled data accuracy is %.3f\" % (accuracy, scaled_accuracy))\n",
    "    print(\"So the answer is %.3f\" % (result, ))\n",
    "    file.write(\"%.3f\" % (result,))"
   ]
  }
 ],
 "metadata": {
  "kernelspec": {
   "display_name": "Python 3",
   "language": "python",
   "name": "python3"
  },
  "language_info": {
   "codemirror_mode": {
    "name": "ipython",
    "version": 3
   },
   "file_extension": ".py",
   "mimetype": "text/x-python",
   "name": "python",
   "nbconvert_exporter": "python",
   "pygments_lexer": "ipython3",
   "version": "3.5.1"
  }
 },
 "nbformat": 4,
 "nbformat_minor": 0
}
